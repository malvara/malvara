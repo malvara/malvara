{
  "nbformat": 4,
  "nbformat_minor": 0,
  "metadata": {
    "colab": {
      "provenance": []
    },
    "kernelspec": {
      "name": "python3",
      "display_name": "Python 3"
    },
    "language_info": {
      "name": "python"
    }
  },
  "cells": [
    {
      "cell_type": "markdown",
      "source": [
        "Contexto\n",
        "Utilizaremos un set de datos de las policias de New York del año 2009\n",
        "y 2010. (2009_1perc.csv y 2010_1perc.csv) los cuales nos darán\n",
        "información de los procedimientos policiales realizados. Además se le\n",
        "entregará el diccionario de variables para que pueda consultar que\n",
        "significa cada categoría dentro de las variables.\n",
        "● La variable respuesta 'arstmade' informa si los procedimientos\n",
        "policiales han terminado en arresto o no, y el objetivo será realizar\n",
        "un modelo de Machine Learning para predecir si un futuro\n",
        "procedimiento terminará en arresto."
      ],
      "metadata": {
        "id": "oFrgoP3Iz9Ki"
      }
    },
    {
      "cell_type": "markdown",
      "source": [
        "# P1\n",
        "Enliste todas las librerías que utilizará\n",
        "Nota: Se recomienda ir actualizando la lista conforme las necesidades\n",
        "vaya teniendo durante el desarrollo de la prueba"
      ],
      "metadata": {
        "id": "1Oxp97ar05RF"
      }
    },
    {
      "cell_type": "code",
      "source": [
        "import pandas as pd\n",
        "from matplotlib import pyplot as plt\n",
        "import numpy as np\n",
        "from sklearn.linear_model import LogisticRegression\n",
        "from sklearn.neighbors import KNeighborsClassifier\n",
        "from sklearn.pipeline import Pipeline\n",
        "from sklearn.preprocessing import StandardScaler\n",
        "from sklearn.ensemble import RandomForestClassifier\n",
        "from sklearn.datasets import make_classification\n",
        "import sklearn.svm\n",
        "from sklearn.pipeline import make_pipeline\n",
        "from sklearn.svm import SVC\n",
        "from sklearn.svm import LinearSVC"
      ],
      "metadata": {
        "id": "PoTBCajb3l6Q"
      },
      "execution_count": 1,
      "outputs": []
    },
    {
      "cell_type": "markdown",
      "source": [
        "# P2\n",
        "Importación y revisión de los datos\n",
        "Importe ambos sets. Dado que la fuente de datos proviene de la misma\n",
        "base, tienen las mismas columnas. Consolide ambos sets y reporte una\n",
        "exploración básica de los datos (número de filas/columnas, tipos de\n",
        "datos, estadísticas básicas, casos perdidos)"
      ],
      "metadata": {
        "id": "pcZBB_5c05p4"
      }
    },
    {
      "cell_type": "code",
      "source": [
        "df1=pd.read_csv('2009_1perc.csv')\n",
        "df2=pd.read_csv('2010_1perc.csv')\n",
        "df=pd.concat([df1,df2], axis=0)\n",
        "print(df2.head())"
      ],
      "metadata": {
        "colab": {
          "base_uri": "https://localhost:8080/"
        },
        "id": "wEmcw6iT4xXK",
        "outputId": "9bad7b5e-a21b-452b-fe04-2db38eb143ee"
      },
      "execution_count": 2,
      "outputs": [
        {
          "output_type": "stream",
          "name": "stdout",
          "text": [
            "   Unnamed: 0  year  pct  ser_num  datestop  timestop recstat inout trhsloc  \\\n",
            "0       30569  2010    6      487   1192010      1420       1     O       P   \n",
            "1      416235  2010   42     7138   9042010       225       1     I       T   \n",
            "2      318345  2010   33     2628   6302010      1240       1     I       T   \n",
            "3      541524  2010  108     6384  11172010      2338       1     O       P   \n",
            "4      113101  2010   14     2295   3072010      2240       1     I       T   \n",
            "\n",
            "   perobs  ... zip  addrpct sector beat post   xcoord  ycoord dettypcm linecm  \\\n",
            "0       2  ...            6      G        38   983543  208767       CM      1   \n",
            "1      10  ...           42      E            1014172  241737       CM      1   \n",
            "2       5  ...           33      B    6       1000916  245710       CM      1   \n",
            "3       3  ...          108      J            1012612  212240       CM      1   \n",
            "4       5  ...           14      C    7        987636  212439       CM      1   \n",
            "\n",
            "   detailcm  \n",
            "0        85  \n",
            "1        45  \n",
            "2        85  \n",
            "3        28  \n",
            "4        20  \n",
            "\n",
            "[5 rows x 112 columns]\n"
          ]
        }
      ]
    },
    {
      "cell_type": "code",
      "source": [
        "print(df.info())\n",
        "print(df.describe())"
      ],
      "metadata": {
        "colab": {
          "base_uri": "https://localhost:8080/"
        },
        "id": "oD9v3ANC83pf",
        "outputId": "127a1f68-d00e-4b9d-dce3-1c25fe2b46fd"
      },
      "execution_count": 3,
      "outputs": [
        {
          "output_type": "stream",
          "name": "stdout",
          "text": [
            "<class 'pandas.core.frame.DataFrame'>\n",
            "Int64Index: 11825 entries, 0 to 6012\n",
            "Columns: 112 entries, Unnamed: 0 to detailcm\n",
            "dtypes: float64(1), int64(16), object(95)\n",
            "memory usage: 10.2+ MB\n",
            "None\n",
            "          Unnamed: 0          year           pct       ser_num      datestop  \\\n",
            "count   11825.000000  11825.000000  11825.000000  11825.000000  1.182500e+04   \n",
            "mean   295983.814799   2009.508499     68.625624   5697.994334  6.364221e+06   \n",
            "std    170820.705702      0.499949     33.037826   5152.486022  3.429091e+06   \n",
            "min        52.000000   2009.000000      1.000000      1.000000  1.012009e+06   \n",
            "25%    147515.000000   2009.000000     42.000000   2002.000000  3.232009e+06   \n",
            "50%    296652.000000   2010.000000     73.000000   4366.000000  6.162010e+06   \n",
            "75%    443097.000000   2010.000000    102.000000   7840.000000  9.232009e+06   \n",
            "max    601281.000000   2010.000000    123.000000  31694.000000  1.231201e+07   \n",
            "\n",
            "           timestop        perobs       perstop  compyear  comppct  \\\n",
            "count  11825.000000  11825.000000  11825.000000   11825.0  11825.0   \n",
            "mean    1413.725497      2.654391      5.649556       0.0      0.0   \n",
            "std      744.726359      9.759031      9.758535       0.0      0.0   \n",
            "min        0.000000      0.000000      1.000000       0.0      0.0   \n",
            "25%     1000.000000      1.000000      3.000000       0.0      0.0   \n",
            "50%     1605.000000      1.000000      5.000000       0.0      0.0   \n",
            "75%     2035.000000      3.000000      5.000000       0.0      0.0   \n",
            "max     2830.000000    926.000000    857.000000       0.0      0.0   \n",
            "\n",
            "             repcmd        revcmd           dob           age       ht_feet  \\\n",
            "count  11825.000000  11825.000000  1.182500e+04  11825.000000  11825.000000   \n",
            "mean     243.354926    238.986385  7.316195e+06     28.968541      5.183340   \n",
            "std      297.788599    299.394740  3.729206e+06     29.205278      0.398801   \n",
            "min        1.000000      1.000000  1.011900e+06      1.000000      3.000000   \n",
            "25%       70.000000     66.000000  4.121982e+06     19.000000      5.000000   \n",
            "50%      105.000000    103.000000  7.261982e+06     25.000000      5.000000   \n",
            "75%      177.000000    176.000000  1.105199e+07     34.000000      5.000000   \n",
            "max      879.000000    879.000000  1.231200e+07    999.000000      7.000000   \n",
            "\n",
            "            ht_inch        weight  \n",
            "count  11825.000000  11825.000000  \n",
            "mean       6.408034    170.093615  \n",
            "std        3.405503     37.195884  \n",
            "min        0.000000      1.000000  \n",
            "25%        4.000000    150.000000  \n",
            "50%        7.000000    170.000000  \n",
            "75%        9.000000    180.000000  \n",
            "max       11.000000    999.000000  \n"
          ]
        }
      ]
    },
    {
      "cell_type": "markdown",
      "source": [
        "# P3\n",
        "Preprocesamiento de datos\n",
        "Habrá notado que los datos parecen tener ciertas inconsistencias. Siga\n",
        "los siguientes pasos para limpiar este set:\n"
      ],
      "metadata": {
        "id": "B7VW2A1j05-g"
      }
    },
    {
      "cell_type": "markdown",
      "source": [
        "3.1 Obtenga una lista con todas las variables categóricas que tengan entre 2 y 99 categorías (inclusive). (hint: son las variables tipo categórica)"
      ],
      "metadata": {
        "id": "FNEPs3NwaZ7y"
      }
    },
    {
      "cell_type": "code",
      "source": [
        "df_cat = df.select_dtypes(include=['object']).columns[df.select_dtypes(include=['object']).nunique().between(2, 99)].tolist()\n",
        "print(df_cat)"
      ],
      "metadata": {
        "colab": {
          "base_uri": "https://localhost:8080/"
        },
        "id": "3sum1_iraRX_",
        "outputId": "56595600-aaa6-4996-e55f-a9819bec61a4"
      },
      "execution_count": 4,
      "outputs": [
        {
          "output_type": "stream",
          "name": "stdout",
          "text": [
            "['recstat', 'inout', 'trhsloc', 'typeofid', 'explnstp', 'othpers', 'arstmade', 'sumissue', 'offunif', 'officrid', 'frisked', 'searched', 'contrabn', 'pistol', 'riflshot', 'asltweap', 'knifcuti', 'othrweap', 'pf_hands', 'pf_wall', 'pf_grnd', 'pf_drwep', 'pf_ptwep', 'pf_baton', 'pf_hcuff', 'pf_pepsp', 'pf_other', 'radio', 'ac_rept', 'ac_inves', 'rf_vcrim', 'rf_othsw', 'ac_proxm', 'rf_attir', 'cs_objcs', 'cs_descr', 'cs_casng', 'cs_lkout', 'rf_vcact', 'cs_cloth', 'cs_drgtr', 'ac_evasv', 'ac_assoc', 'cs_furtv', 'rf_rfcmp', 'ac_cgdir', 'rf_verbl', 'cs_vcrim', 'cs_bulge', 'cs_other', 'ac_incid', 'ac_time', 'rf_knowl', 'ac_stsnd', 'ac_other', 'sb_hdobj', 'sb_outln', 'sb_admis', 'sb_other', 'rf_furt', 'rf_bulg', 'offverb', 'offshld', 'sex', 'race', 'haircolr', 'eyecolor', 'build', 'addrtyp', 'city', 'sector', 'beat', 'dettypcm', 'linecm']\n"
          ]
        }
      ]
    },
    {
      "cell_type": "markdown",
      "source": [
        "3.2 Reemplace las siguientes clases faltantes: -Si alguna categoría de las columnas officrid, offshld o offverb es igual a \"\" cámbielo a 'N' y en caso contrario déjelo como 'Y' -Si alguna categoría de las columnas sector, trhsloc o beat es igual a \"\" (o NA, dependiendo de cómo haya categorizado la base de datos), cámbielo a 'U' y en caso contrario mantenga su valor Nota, los valores significan {N: No, Y: Yes, U: Unknown}"
      ],
      "metadata": {
        "id": "BfhbzAjTadal"
      }
    },
    {
      "cell_type": "code",
      "source": [
        "df[['officrid', 'offshld', 'offverb']] = df[['officrid', 'offshld', 'offverb']].replace(\" \", \"N\")\n",
        "df[['sector', 'trhsloc', 'beat']] = df[['sector', 'trhsloc', 'beat']].replace(\" \", \"U\")\n",
        "print(df[['officrid', 'offshld', 'offverb']].head())\n",
        "print(df[['sector', 'trhsloc', 'beat']].head())"
      ],
      "metadata": {
        "colab": {
          "base_uri": "https://localhost:8080/"
        },
        "id": "hCDr-VgKanaz",
        "outputId": "8ba0f4ab-9c53-4134-b1f0-b297fb15c63f"
      },
      "execution_count": 5,
      "outputs": [
        {
          "output_type": "stream",
          "name": "stdout",
          "text": [
            "  officrid offshld offverb\n",
            "0        N       N       N\n",
            "1        N       S       V\n",
            "2        N       S       N\n",
            "3        N       N       N\n",
            "4        N       N       N\n",
            "  sector trhsloc beat\n",
            "0      G       P    7\n",
            "1      J       P    U\n",
            "2      E       P    U\n",
            "3      J       P    4\n",
            "4      H       P    U\n"
          ]
        }
      ]
    },
    {
      "cell_type": "markdown",
      "source": [
        "3.3 Transforme las columnas ht_feet junto con ht_inch en una única columna (de la forma \"ht_feet.ht_inch\") llamado 'meters' (hint: transforme con el siguiente cálculo: metros = (pies+pulgadas)*0.3048)"
      ],
      "metadata": {
        "id": "vj7ItnKzaoHY"
      }
    },
    {
      "cell_type": "code",
      "source": [
        "df['meters'] = (df['ht_feet'] * 0.3048) + (df['ht_inch'] * 0.0254)\n",
        "print(df['meters'].head())"
      ],
      "metadata": {
        "colab": {
          "base_uri": "https://localhost:8080/"
        },
        "id": "QYErJmL4avdI",
        "outputId": "2f9f8fd5-7eeb-43e7-b086-23f7ea6fbe37"
      },
      "execution_count": 6,
      "outputs": [
        {
          "output_type": "stream",
          "name": "stdout",
          "text": [
            "0    1.7526\n",
            "1    1.6510\n",
            "2    1.9050\n",
            "3    1.6510\n",
            "4    1.6764\n",
            "Name: meters, dtype: float64\n"
          ]
        }
      ]
    },
    {
      "cell_type": "markdown",
      "source": [
        "3.4 Note que la fecha viene en un formato MMDDAAAA en la columna datestop. Genere 2 nuevas columnas llamadas month y year que solo tenga el mes y el año respectivamente"
      ],
      "metadata": {
        "id": "R3sV-JjTaxHh"
      }
    },
    {
      "cell_type": "code",
      "source": [
        "df['month'] = pd.to_datetime(df['datestop'], format='%m%d%Y').dt.month\n",
        "df['year'] = pd.to_datetime(df['datestop'], format='%m%d%Y').dt.year\n",
        "print(df['month'].head())\n",
        "print(df['year'].head())"
      ],
      "metadata": {
        "colab": {
          "base_uri": "https://localhost:8080/"
        },
        "id": "iaqSdXpPa3qo",
        "outputId": "32ebab58-789c-4d60-c8bf-2ba21beda221"
      },
      "execution_count": 7,
      "outputs": [
        {
          "output_type": "stream",
          "name": "stdout",
          "text": [
            "0     4\n",
            "1    10\n",
            "2    10\n",
            "3    12\n",
            "4    12\n",
            "Name: month, dtype: int64\n",
            "0    2009\n",
            "1    2009\n",
            "2    2009\n",
            "3    2009\n",
            "4    2009\n",
            "Name: year, dtype: int64\n"
          ]
        }
      ]
    },
    {
      "cell_type": "markdown",
      "source": [
        "3.5 Filtre su DataFrame y solo deje las columnas seleccionadas en el punto 3.1, el mes, el año, los metros y la edad. Luego solo deje los registros cuyas edades estén entre 18 y 100 años, ambos inclusive."
      ],
      "metadata": {
        "id": "iFH7gDgbbAQM"
      }
    },
    {
      "cell_type": "code",
      "source": [
        "filtro = df_cat + ['month', 'year', 'meters', 'age']\n",
        "df1 = df[filtro]\n",
        "df1 = df1[(df1['age'] >= 18) & (df1['age'] <= 100)]\n",
        "print(df1.head(),'\\n')"
      ],
      "metadata": {
        "colab": {
          "base_uri": "https://localhost:8080/"
        },
        "id": "KOWFXs-qa83r",
        "outputId": "1b2ebf71-4bc8-4a67-9df1-1891c3843d29"
      },
      "execution_count": 9,
      "outputs": [
        {
          "output_type": "stream",
          "name": "stdout",
          "text": [
            "  recstat inout trhsloc typeofid explnstp othpers arstmade sumissue offunif  \\\n",
            "0       A     O       P        P        Y       N        N        N       Y   \n",
            "2       1     O       P        V        Y       N        N        N       N   \n",
            "3       A     O       P        P        Y       N        N        N       Y   \n",
            "4       A     O       P        P        Y       Y        N        N       Y   \n",
            "5       1     I       T        V        Y       N        N        N       N   \n",
            "\n",
            "  officrid  ... addrtyp       city sector beat dettypcm linecm month  year  \\\n",
            "0        N  ...       L      BRONX      G    7       CM      1     4  2009   \n",
            "2        N  ...       L      BRONX      E    U       CM      1    10  2009   \n",
            "3        N  ...       L   BROOKLYN      J    4       CM      1    12  2009   \n",
            "4        N  ...       L     QUEENS      H    U       CM      1    12  2009   \n",
            "5        I  ...       L  MANHATTAN      F   16       CM      1     5  2009   \n",
            "\n",
            "   meters age  \n",
            "0  1.7526  24  \n",
            "2  1.9050  21  \n",
            "3  1.6510  22  \n",
            "4  1.6764  18  \n",
            "5  1.7272  47  \n",
            "\n",
            "[5 rows x 78 columns] \n",
            "\n"
          ]
        }
      ]
    },
    {
      "cell_type": "markdown",
      "source": [
        "# P4\n",
        "Análisis exploratorio"
      ],
      "metadata": {
        "id": "D8CmQ5ll06SC"
      }
    },
    {
      "cell_type": "markdown",
      "source": [
        "4.1 Estudie la variable respuesta por si sola (arstmade), puede ayudarse de un gráfico. Comente"
      ],
      "metadata": {
        "id": "gGdzu70x47-i"
      }
    },
    {
      "cell_type": "code",
      "source": [
        "fig, ax=plt.subplots()\n",
        "x=df1['arstmade']\n",
        "ax.hist(x)\n",
        "ax.set_title('arstmade', loc = \"left\", fontdict =\n",
        "{'fontsize':14, 'fontweight':'bold', 'color':'tab:blue'})\n",
        "plt.show()"
      ],
      "metadata": {
        "colab": {
          "base_uri": "https://localhost:8080/",
          "height": 453
        },
        "id": "CP7Ww2CA47Lp",
        "outputId": "bb3dcfe2-86cd-4a18-906b-dc12cd88d9c2"
      },
      "execution_count": 10,
      "outputs": [
        {
          "output_type": "display_data",
          "data": {
            "text/plain": [
              "<Figure size 640x480 with 1 Axes>"
            ],
            "image/png": "[encoded data removed]"
          },
          "metadata": {}
        }
      ]
    },
    {
      "cell_type": "code",
      "source": [
        "df1['arstmade'].describe()"
      ],
      "metadata": {
        "colab": {
          "base_uri": "https://localhost:8080/"
        },
        "id": "71171IgFFSdx",
        "outputId": "4307c8bc-6aec-4731-af24-7c733b53ea93"
      },
      "execution_count": 11,
      "outputs": [
        {
          "output_type": "execute_result",
          "data": {
            "text/plain": [
              "count     10078\n",
              "unique        2\n",
              "top           N\n",
              "freq       9432\n",
              "Name: arstmade, dtype: object"
            ]
          },
          "metadata": {},
          "execution_count": 11
        }
      ]
    },
    {
      "cell_type": "markdown",
      "source": [
        "La variable 'arsmade' posee una distribución binomial, con preponderancia en el valo N, con probabilidad 9432/10078=0.94 de ocurrencia."
      ],
      "metadata": {
        "id": "fmdYNv4uGRCE"
      }
    },
    {
      "cell_type": "markdown",
      "source": [
        "4.2.- Estudie la relación de la variable respuesta en comportamiento con la raza (race), comente."
      ],
      "metadata": {
        "id": "UB2ZJ9eH5EQQ"
      }
    },
    {
      "cell_type": "code",
      "source": [
        "fig, ax=plt.subplots()\n",
        "x=df1['race']\n",
        "ax.hist(x)\n",
        "ax.set_title('race', loc = \"left\", fontdict =\n",
        "{'fontsize':14, 'fontweight':'bold', 'color':'tab:blue'})\n",
        "plt.show()"
      ],
      "metadata": {
        "colab": {
          "base_uri": "https://localhost:8080/",
          "height": 453
        },
        "id": "_F3brG7LMHcf",
        "outputId": "a8672244-95fd-4cda-f4d2-fea11933d679"
      },
      "execution_count": 12,
      "outputs": [
        {
          "output_type": "display_data",
          "data": {
            "text/plain": [
              "<Figure size 640x480 with 1 Axes>"
            ],
            "image/png": "[encoded data removed]"
          },
          "metadata": {}
        }
      ]
    },
    {
      "cell_type": "markdown",
      "source": [
        "De la observación general de ambaos gráficos, se puede observar que hay más sucesos relacionados con 'B' que el resto, asumo que es algún hecho policial, por lo tanto, podría suponer que en los sucesos de arresto o no, con mayor probabilidad estan involucrados sujetos 'B' (presumo negros). Para tener números habria que dar valor numérico a las variables."
      ],
      "metadata": {
        "id": "qwfaE5aMQkg9"
      }
    },
    {
      "cell_type": "markdown",
      "source": [
        "4.3 Estudie la relación de la variable respuesta en comportamiento con la sexo y la edad en su conjunto, comente."
      ],
      "metadata": {
        "id": "ascvvDGv5MXZ"
      }
    },
    {
      "cell_type": "code",
      "source": [
        "fig, ax=plt.subplots()\n",
        "x=df1['sex']\n",
        "ax.hist(x)\n",
        "ax.set_title('sex', loc = \"left\", fontdict =\n",
        "{'fontsize':14, 'fontweight':'bold', 'color':'tab:blue'})\n",
        "plt.show()"
      ],
      "metadata": {
        "id": "gxy4Titn5chH",
        "colab": {
          "base_uri": "https://localhost:8080/",
          "height": 453
        },
        "outputId": "9e9f36d8-495e-40fc-99e6-010d6983324c"
      },
      "execution_count": 13,
      "outputs": [
        {
          "output_type": "display_data",
          "data": {
            "text/plain": [
              "<Figure size 640x480 with 1 Axes>"
            ],
            "image/png": "[encoded data removed]"
          },
          "metadata": {}
        }
      ]
    },
    {
      "cell_type": "code",
      "source": [
        "fig, ax=plt.subplots()\n",
        "x=df1['age']\n",
        "ax.hist(x)\n",
        "ax.set_title('age', loc = \"left\", fontdict =\n",
        "{'fontsize':14, 'fontweight':'bold', 'color':'tab:blue'})\n",
        "plt.show()"
      ],
      "metadata": {
        "colab": {
          "base_uri": "https://localhost:8080/",
          "height": 453
        },
        "id": "Qy8Ak0hdVM7m",
        "outputId": "a2124906-5921-46f4-9131-1fe62f5d82e9"
      },
      "execution_count": 14,
      "outputs": [
        {
          "output_type": "display_data",
          "data": {
            "text/plain": [
              "<Figure size 640x480 with 1 Axes>"
            ],
            "image/png": "[encoded data removed]"
          },
          "metadata": {}
        }
      ]
    },
    {
      "cell_type": "markdown",
      "source": [
        "De la onservación de los gráficos, la mayoria de las personas involucrados en sucesos policiciales son hombre entre 20 y 30 años. y del análisis anterior, de raza negra. Y este tipo de persona tiene mayor probabilidad de sr arrestado."
      ],
      "metadata": {
        "id": "vUfvZWPuV1xv"
      }
    },
    {
      "cell_type": "markdown",
      "source": [
        "● 4.4 Recodifique la variable respuesta a 1 y 0. Donde 0 es N y 1 es\n",
        "Y"
      ],
      "metadata": {
        "id": "AcKGTNIl57FG"
      }
    },
    {
      "cell_type": "code",
      "source": [
        "print(df1['arstmade'].head())"
      ],
      "metadata": {
        "colab": {
          "base_uri": "https://localhost:8080/"
        },
        "id": "d29CaS1mX_6t",
        "outputId": "7ad317b4-83a4-4a5c-e22e-154ca0a13a94"
      },
      "execution_count": 16,
      "outputs": [
        {
          "output_type": "stream",
          "name": "stdout",
          "text": [
            "0    N\n",
            "2    N\n",
            "3    N\n",
            "4    N\n",
            "5    N\n",
            "Name: arstmade, dtype: object\n"
          ]
        }
      ]
    },
    {
      "cell_type": "code",
      "source": [
        "df1['arstmade'] = df1['arstmade'].map({'Y': 1, 'N': 0})\n",
        "print(df1['arstmade'].head())"
      ],
      "metadata": {
        "id": "t2fWTwNV574Y",
        "colab": {
          "base_uri": "https://localhost:8080/"
        },
        "outputId": "943bf0b0-a2c2-4cc0-8966-93347312c7c2"
      },
      "execution_count": 17,
      "outputs": [
        {
          "output_type": "stream",
          "name": "stdout",
          "text": [
            "0    0\n",
            "2    0\n",
            "3    0\n",
            "4    0\n",
            "5    0\n",
            "Name: arstmade, dtype: int64\n"
          ]
        }
      ]
    },
    {
      "cell_type": "markdown",
      "source": [
        "4.5 Muestre en un gráfico la probabilidad que un individuo sea arrestado, condicional al género y a la raza. ¿qué implicancias éticas tienen algunas conclusiones de lo que observa?"
      ],
      "metadata": {
        "id": "2fTyaZWF5fOR"
      }
    },
    {
      "cell_type": "code",
      "source": [
        "df2=df1[['arstmade','sex','race']]\n",
        "condicion=(df2['arstmade']==1)&(df2['sex']=='M')&(df2['race']=='W')\n",
        "df3=df2[condicion]\n",
        "print(df3.head())\n",
        "print(df3.info())"
      ],
      "metadata": {
        "id": "0gY--bs45nDs",
        "colab": {
          "base_uri": "https://localhost:8080/"
        },
        "outputId": "8a142710-b483-4db7-c124-834334cd1fa5"
      },
      "execution_count": 18,
      "outputs": [
        {
          "output_type": "stream",
          "name": "stdout",
          "text": [
            "     arstmade sex race\n",
            "26          1   M    W\n",
            "42          1   M    W\n",
            "198         1   M    W\n",
            "297         1   M    W\n",
            "646         1   M    W\n",
            "<class 'pandas.core.frame.DataFrame'>\n",
            "Int64Index: 62 entries, 26 to 5870\n",
            "Data columns (total 3 columns):\n",
            " #   Column    Non-Null Count  Dtype \n",
            "---  ------    --------------  ----- \n",
            " 0   arstmade  62 non-null     int64 \n",
            " 1   sex       62 non-null     object\n",
            " 2   race      62 non-null     object\n",
            "dtypes: int64(1), object(2)\n",
            "memory usage: 1.9+ KB\n",
            "None\n"
          ]
        }
      ]
    },
    {
      "cell_type": "code",
      "source": [
        "A=['MB','MQ','MW','FB','FQ','FW']\n",
        "B=[0.029,0.015,0.006,0.004,0.001,0.001] #se construye tabla de valores a partir condición anterior.\n",
        "fig, ax = plt.subplots()\n",
        "ax.bar(A, B, width=1, edgecolor=\"white\", linewidth=0.7)\n",
        "ax.set_title('Probabilidad arresto condicionado a genero y raza', loc = \"left\", fontdict =\n",
        "{'fontsize':14, 'fontweight':'bold', 'color':'tab:blue'})\n",
        "plt.show()"
      ],
      "metadata": {
        "colab": {
          "base_uri": "https://localhost:8080/",
          "height": 453
        },
        "id": "smonaUaki9K3",
        "outputId": "9abf69a6-073a-4e93-f142-6c05aa065ddc"
      },
      "execution_count": 19,
      "outputs": [
        {
          "output_type": "display_data",
          "data": {
            "text/plain": [
              "<Figure size 640x480 with 1 Axes>"
            ],
            "image/png": "[encoded data removed]"
          },
          "metadata": {}
        }
      ]
    },
    {
      "cell_type": "code",
      "source": [
        "A=['MB','MQ','MW','FB','FQ','FW']\n",
        "B=[0.47,0.22,0.08,0.028,0.015,0.009] #se construye tabla de valores a partir condición anterior.\n",
        "fig, ax = plt.subplots()\n",
        "ax.bar(A, B, width=1, edgecolor=\"white\", linewidth=0.7)\n",
        "ax.set_title('Probabilidad no arresto condicionado a genero y raza', loc = \"left\", fontdict =\n",
        "{'fontsize':14, 'fontweight':'bold', 'color':'tab:blue'})\n",
        "plt.show()"
      ],
      "metadata": {
        "colab": {
          "base_uri": "https://localhost:8080/",
          "height": 453
        },
        "id": "4wc6TwAwr5ol",
        "outputId": "1f7d6edb-8f4c-439d-f6c0-98ceb7f4938b"
      },
      "execution_count": 20,
      "outputs": [
        {
          "output_type": "display_data",
          "data": {
            "text/plain": [
              "<Figure size 640x480 with 1 Axes>"
            ],
            "image/png": "[encoded data removed]"
          },
          "metadata": {}
        }
      ]
    },
    {
      "cell_type": "markdown",
      "source": [
        "Al observar la gráfica, y si hablamos de implicancias éticas, podriamos decir que existe una tendencia a arrestar a gente no blanca y de genero masculino. Tal vez, se podria hablar de racismo afectando a los criterios policiales."
      ],
      "metadata": {
        "id": "81feUFMZueaX"
      }
    },
    {
      "cell_type": "markdown",
      "source": [
        "# P5\n",
        " Determinar si el procedimiento policial concluirá en alguna acción\n",
        "violenta.\n",
        "Los atributos que tienen el prefijo pf (['pf_hands'],['pf_wall'], ['pf_grnd'],\n",
        "['pf_drwep'], ['pf_ptwep'],['pf_baton'],['pf_hcuff'], ['pf_pepsp'] y\n",
        "['pf_other']) indican si hubo fuerza fisica utilizada por el oficial al\n",
        "momento del procedimiento, con la marca 'Y'.\n",
        "Genere una nueva variable llamada 'violencia' la cual sea 1 si en\n",
        "cualquiera de las 9 variables pf hubo alguna 'Y', y 0 en otro caso. Luego\n",
        "indique el porcentaje de casos que terminaron con violencia."
      ],
      "metadata": {
        "id": "ymPAqvIq06mE"
      }
    },
    {
      "cell_type": "code",
      "source": [
        "list1=['pf_hands','pf_wall', 'pf_grnd', 'pf_drwep', 'pf_ptwep','pf_baton','pf_hcuff', 'pf_pepsp', 'pf_other']\n",
        "for elem in list1:\n",
        "  df1['violencia'] = df1[elem].apply(lambda x: 1 if x in 'Y' else 0)\n",
        "print(df1['violencia'].head())\n",
        "print(df1['violencia'].value_counts())"
      ],
      "metadata": {
        "colab": {
          "base_uri": "https://localhost:8080/"
        },
        "id": "QT45_m7wvwBy",
        "outputId": "a69004e8-7019-4242-d9f7-fd248fdf103a"
      },
      "execution_count": 21,
      "outputs": [
        {
          "output_type": "stream",
          "name": "stdout",
          "text": [
            "0    0\n",
            "2    0\n",
            "3    0\n",
            "4    0\n",
            "5    0\n",
            "Name: violencia, dtype: int64\n",
            "0    10041\n",
            "1       37\n",
            "Name: violencia, dtype: int64\n"
          ]
        }
      ]
    },
    {
      "cell_type": "markdown",
      "source": [
        "El número de casos que terminaron con violencia fueron 37, es decir el 0.004%"
      ],
      "metadata": {
        "id": "M9XYi8Z-ORJu"
      }
    },
    {
      "cell_type": "markdown",
      "source": [
        "# P6\n",
        "Modelación"
      ],
      "metadata": {
        "id": "LFm4XfLG065m"
      }
    },
    {
      "cell_type": "markdown",
      "source": [
        "6.1 Genere las variables dummies correspondientes (Tenga cuidado de no utilizar variables que expliquen lo mismo, ¡recuerde que acaba de crear una variable a partir de otras!, además recuerde que creó una variable numérica que es una categoría :) ). Luego genere los sets de train-test utilizando el año 2009 para entrenar, y el año 2010 para testear"
      ],
      "metadata": {
        "id": "5yfW3Uo-OkFt"
      }
    },
    {
      "cell_type": "code",
      "source": [
        "df_cat1=df_cat              #lista dtipe=object(sólo ha estos crear dummies)\n",
        "df_cat1.remove('arstmade')"
      ],
      "metadata": {
        "id": "hEbnXykXO3Dw"
      },
      "execution_count": 22,
      "outputs": []
    },
    {
      "cell_type": "code",
      "source": [
        "for elem in df_cat1:\n",
        "  d = pd.get_dummies(df1[elem], dummy_na = True)\n",
        "  df1 = pd.concat([df1.drop(elem, axis = 1), d], axis = 1)\n",
        "df1.columns = df1.columns.astype(str)\n",
        "print(df1.head())\n",
        "df1.info()"
      ],
      "metadata": {
        "colab": {
          "base_uri": "https://localhost:8080/"
        },
        "id": "F1_71esInvfA",
        "outputId": "46842b62-71de-4222-fec0-59cc789adee3"
      },
      "execution_count": 23,
      "outputs": [
        {
          "output_type": "stream",
          "name": "stdout",
          "text": [
            "   arstmade  month  year  meters  age  violencia  1  A  nan  I  ...  9  U  \\\n",
            "0         0      4  2009  1.7526   24          0  0  1    0  0  ...  0  0   \n",
            "2         0     10  2009  1.9050   21          0  1  0    0  0  ...  0  1   \n",
            "3         0     12  2009  1.6510   22          0  0  1    0  0  ...  0  0   \n",
            "4         0     12  2009  1.6764   18          0  0  1    0  0  ...  0  1   \n",
            "5         0      5  2009  1.7272   47          0  1  0    0  1  ...  0  0   \n",
            "\n",
            "   nan     CM  nan  1     1  nan  \n",
            "0    0  0   1    0  1  0  0    0  \n",
            "2    0  0   1    0  1  0  0    0  \n",
            "3    0  0   1    0  1  0  0    0  \n",
            "4    0  0   1    0  1  0  0    0  \n",
            "5    0  0   1    0  1  0  0    0  \n",
            "\n",
            "[5 rows x 341 columns]\n",
            "<class 'pandas.core.frame.DataFrame'>\n",
            "Int64Index: 10078 entries, 0 to 6012\n",
            "Columns: 341 entries, arstmade to nan\n",
            "dtypes: float64(1), int64(5), uint8(335)\n",
            "memory usage: 3.8 MB\n"
          ]
        }
      ]
    },
    {
      "cell_type": "code",
      "source": [
        "df1_2009=df1[(df1['year']==2009)]\n",
        "df1_2010=df1[(df1['year']==2010)]\n",
        "Y_train=df1_2009['arstmade']\n",
        "Y_test=df1_2010['arstmade']\n",
        "X_train=df1_2009.drop(columns = 'arstmade')\n",
        "X_test=df1_2010.drop(columns = 'arstmade')\n",
        "print(X_train.shape,Y_train.shape)\n",
        "print(X_test.shape,Y_test.shape)"
      ],
      "metadata": {
        "colab": {
          "base_uri": "https://localhost:8080/"
        },
        "id": "WhmHLpfwnOYV",
        "outputId": "b1a5b6ab-f585-419f-cc71-e27901862259"
      },
      "execution_count": 26,
      "outputs": [
        {
          "output_type": "stream",
          "name": "stdout",
          "text": [
            "(4987, 340) (4987,)\n",
            "(5091, 340) (5091,)\n"
          ]
        }
      ]
    },
    {
      "cell_type": "markdown",
      "source": [
        "6.2 Entrene 4 modelos de clásificación y reporte el mejor modelo bajo algún criterio. Utilice validación cruzada de al menos 2 folds para probar distintos hiperparámetros para cada modelo (puede probar cualquier hiperparámetro, pero debe ser al menos uno)"
      ],
      "metadata": {
        "id": "nxX7HhitOsPG"
      }
    },
    {
      "cell_type": "markdown",
      "source": [
        "Regresión logística"
      ],
      "metadata": {
        "id": "K5tFKByEmlvp"
      }
    },
    {
      "cell_type": "code",
      "source": [
        "clf = LogisticRegression(solver='newton-cholesky',random_state=0,max_iter=5000).fit(X_train, Y_train)\n",
        "Y_pred=clf.predict(X_test)\n",
        "Y_prob=clf.predict_proba(X_test)\n",
        "print(Y_pred[1:10],'\\n')\n",
        "print(Y_prob[1:10],'\\n')\n",
        "print('La accuracy de la regresión logística es: ',clf.score(X_test, Y_test),'\\n')\n"
      ],
      "metadata": {
        "id": "aXfPJgBmOr1j",
        "colab": {
          "base_uri": "https://localhost:8080/"
        },
        "outputId": "f09fcbc2-7970-4267-d638-af3ee83605a0"
      },
      "execution_count": 44,
      "outputs": [
        {
          "output_type": "stream",
          "name": "stdout",
          "text": [
            "[1 1 1 1 1 1 1 1 1] \n",
            "\n",
            "[[7.03300861e-06 9.99992967e-01]\n",
            " [3.38393160e-05 9.99966161e-01]\n",
            " [1.60501060e-05 9.99983950e-01]\n",
            " [1.31050014e-05 9.99986895e-01]\n",
            " [2.02728730e-04 9.99797271e-01]\n",
            " [1.55090294e-05 9.99984491e-01]\n",
            " [3.64794699e-06 9.99996352e-01]\n",
            " [6.54904534e-06 9.99993451e-01]\n",
            " [5.55861338e-05 9.99944414e-01]] \n",
            "\n",
            "La accuracy de la regresión logística es:  0.06717737183264584 \n",
            "\n"
          ]
        },
        {
          "output_type": "stream",
          "name": "stderr",
          "text": [
            "/usr/local/lib/python3.10/dist-packages/sklearn/base.py:432: UserWarning: X has feature names, but LogisticRegression was fitted without feature names\n",
            "  warnings.warn(\n",
            "/usr/local/lib/python3.10/dist-packages/sklearn/base.py:432: UserWarning: X has feature names, but LogisticRegression was fitted without feature names\n",
            "  warnings.warn(\n",
            "/usr/local/lib/python3.10/dist-packages/sklearn/base.py:432: UserWarning: X has feature names, but LogisticRegression was fitted without feature names\n",
            "  warnings.warn(\n"
          ]
        }
      ]
    },
    {
      "cell_type": "markdown",
      "source": [
        "KNN"
      ],
      "metadata": {
        "id": "uhWuNJUcmqVD"
      }
    },
    {
      "cell_type": "code",
      "source": [
        "scaler = StandardScaler()\n",
        "X_train = scaler.fit_transform(X_train)\n",
        "clf = KNeighborsClassifier(n_neighbors=20)\n",
        "clf.fit(X_train, Y_train)\n",
        "Y_pred=clf.predict(X_test)\n",
        "Y_prob=clf.predict_proba(X_test)\n",
        "Y_test = np.array(Y_test).reshape(-1, 1)\n",
        "print('\\n',Y_pred[1:10],'\\n')\n",
        "print(Y_prob[1:10],'\\n')\n",
        "print('La accuracy de KNN es: ',clf.score(X_test, Y_pred),'\\n')\n"
      ],
      "metadata": {
        "id": "UuMTZ3QcmxO7",
        "colab": {
          "base_uri": "https://localhost:8080/"
        },
        "outputId": "7a092ded-426a-4b40-d228-ecb828940832"
      },
      "execution_count": 46,
      "outputs": [
        {
          "output_type": "stream",
          "name": "stderr",
          "text": [
            "/usr/local/lib/python3.10/dist-packages/sklearn/base.py:432: UserWarning: X has feature names, but KNeighborsClassifier was fitted without feature names\n",
            "  warnings.warn(\n",
            "/usr/local/lib/python3.10/dist-packages/sklearn/base.py:432: UserWarning: X has feature names, but KNeighborsClassifier was fitted without feature names\n",
            "  warnings.warn(\n",
            "/usr/local/lib/python3.10/dist-packages/sklearn/base.py:432: UserWarning: X has feature names, but KNeighborsClassifier was fitted without feature names\n",
            "  warnings.warn(\n"
          ]
        },
        {
          "output_type": "stream",
          "name": "stdout",
          "text": [
            "\n",
            " [1 1 1 1 1 1 1 1 1] \n",
            "\n",
            "[[0.45 0.55]\n",
            " [0.45 0.55]\n",
            " [0.45 0.55]\n",
            " [0.45 0.55]\n",
            " [0.45 0.55]\n",
            " [0.45 0.55]\n",
            " [0.45 0.55]\n",
            " [0.45 0.55]\n",
            " [0.45 0.55]] \n",
            "\n",
            "La accuracy de KNN es:  1.0 \n",
            "\n"
          ]
        }
      ]
    },
    {
      "cell_type": "markdown",
      "source": [
        "Random Forest"
      ],
      "metadata": {
        "id": "TRn741wRmzaP"
      }
    },
    {
      "cell_type": "code",
      "source": [
        "X_train, Y_train = make_classification(n_samples=1000, n_features=340, n_informative=2, n_redundant=0, random_state=10, shuffle=False)\n",
        "clf = RandomForestClassifier(max_depth=2, random_state=0)\n",
        "clf.fit(X_train,Y_train)\n",
        "Y_pred=clf.predict(X_test)\n",
        "Y_prob=clf.predict_proba(X_test)\n",
        "print(Y_pred[1:10],'\\n')\n",
        "print(Y_prob[1:10],'\\n')\n",
        "print('La accuracy de Random Forest es: ',clf.score(X_test, Y_pred),'\\n')"
      ],
      "metadata": {
        "id": "ldoZ0qSpm5b1",
        "colab": {
          "base_uri": "https://localhost:8080/"
        },
        "outputId": "7a393f4f-215d-4d5c-ffa3-dfb8250b7c12"
      },
      "execution_count": 40,
      "outputs": [
        {
          "output_type": "stream",
          "name": "stdout",
          "text": [
            "[1 1 1 1 1 1 1 1 1] \n",
            "\n",
            "[[0.47360703 0.52639297]\n",
            " [0.48102893 0.51897107]\n",
            " [0.46978263 0.53021737]\n",
            " [0.47072782 0.52927218]\n",
            " [0.4763765  0.5236235 ]\n",
            " [0.47975772 0.52024228]\n",
            " [0.47920637 0.52079363]\n",
            " [0.47701131 0.52298869]\n",
            " [0.47154784 0.52845216]] \n",
            "\n",
            "La accuracy de Random Forest es:  1.0 \n",
            "\n"
          ]
        },
        {
          "output_type": "stream",
          "name": "stderr",
          "text": [
            "/usr/local/lib/python3.10/dist-packages/sklearn/base.py:432: UserWarning: X has feature names, but RandomForestClassifier was fitted without feature names\n",
            "  warnings.warn(\n",
            "/usr/local/lib/python3.10/dist-packages/sklearn/base.py:432: UserWarning: X has feature names, but RandomForestClassifier was fitted without feature names\n",
            "  warnings.warn(\n",
            "/usr/local/lib/python3.10/dist-packages/sklearn/base.py:432: UserWarning: X has feature names, but RandomForestClassifier was fitted without feature names\n",
            "  warnings.warn(\n"
          ]
        }
      ]
    },
    {
      "cell_type": "markdown",
      "source": [
        "SVM"
      ],
      "metadata": {
        "id": "CZ0ApMAsm7ju"
      }
    },
    {
      "cell_type": "code",
      "source": [
        "import sklearn.svm\n",
        "from sklearn.pipeline import make_pipeline\n",
        "from sklearn.preprocessing import StandardScaler\n",
        "from sklearn.svm import SVC\n",
        "from sklearn.svm import LinearSVC\n",
        "from sklearn.datasets import make_classification\n",
        "\n",
        "X_train, Y_train = make_classification(n_features=340, random_state=0)\n",
        "clf = make_pipeline(StandardScaler(), LinearSVC(dual=True, random_state=0, tol=1e-5))\n",
        "clf.fit(X_train, Y_train)\n",
        "Y_pred=clf.predict(X_test)\n",
        "print('\\n',Y_pred[1:10],'\\n')\n",
        "print('La accuracy de SKV es: ',clf.score(X_test,Y_pred),'\\n')\n"
      ],
      "metadata": {
        "id": "tpei600Fm_L6",
        "colab": {
          "base_uri": "https://localhost:8080/"
        },
        "outputId": "7549bf03-1c62-4e26-bc95-dc5847608235"
      },
      "execution_count": 45,
      "outputs": [
        {
          "output_type": "stream",
          "name": "stdout",
          "text": [
            "\n",
            " [0 0 0 0 0 0 0 0 0] \n",
            "\n",
            "La accuracy de SKV es:  1.0 \n",
            "\n"
          ]
        },
        {
          "output_type": "stream",
          "name": "stderr",
          "text": [
            "/usr/local/lib/python3.10/dist-packages/sklearn/base.py:432: UserWarning: X has feature names, but StandardScaler was fitted without feature names\n",
            "  warnings.warn(\n",
            "/usr/local/lib/python3.10/dist-packages/sklearn/base.py:432: UserWarning: X has feature names, but StandardScaler was fitted without feature names\n",
            "  warnings.warn(\n"
          ]
        }
      ]
    },
    {
      "cell_type": "markdown",
      "source": [
        "Seg+un la métrica accuracy, KNN, Random Forest y SVM arrojaron valor ideal 1, y por tanto para este problema, cualquiera de ellos se desempeña adecuadamente. Notemos también, que la regresión logística obtuvo un alto valor, y también es un modelo válido. No hice más pruebas con otros hiperparámetros, porque no habia nada que mejorar, luego estime que era inecesario.\n",
        "\n"
      ],
      "metadata": {
        "id": "lsvRPXERxcTN"
      }
    },
    {
      "cell_type": "markdown",
      "source": [
        "# Bonus\n",
        "¿Qué puede hacer para mejorar la predicción de los modelos?"
      ],
      "metadata": {
        "id": "Yu37pDDL1Vyf"
      }
    },
    {
      "cell_type": "markdown",
      "source": [
        "Mirando la documentación de Scikit Learn, la función objetivo tiene parámetros, que pueden ser modificados, y que permiten mejorar la accuracy del modelo, por ejemplo se puede usar el método 'newton-cholesky' en el parámetro solver y aumentar el número de iteraciones máximo en el parámetrp max_iter, en el caso de la regresión logística. También es importante, asegurar que los datos de entreda esten lo más limpios posibles, de manera de ejecutar las operaciones computacionales eficientemente. Asegurarse también de tener una muestra suficientemente grande y representativa de lo que realmente se desea estudiar. Y finalmente, estar muy atento a la magnitud de los errores que la ejecución de los modelos arroja, de manera de controlar la fidelidad y confiabilidad de los resultados."
      ],
      "metadata": {
        "id": "DcqFStor-3rM"
      }
    },
    {
      "cell_type": "code",
      "source": [],
      "metadata": {
        "id": "_szPn6pAO6Nb"
      },
      "execution_count": null,
      "outputs": []
    }
  ]
}